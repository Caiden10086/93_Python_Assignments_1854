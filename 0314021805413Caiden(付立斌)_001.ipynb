{
 "cells": [
  {
   "cell_type": "markdown",
   "metadata": {},
   "source": [
    "    JLUFE                                                     Spring 2021 (Feb-July) \n",
    "\n",
    "                             Final Assignment Report        \n",
    "                                 \n",
    "                          \n",
    "                     JILIN UNIVERSITY OF FINANCE AND ECONOMICS  \n",
    "\n",
    "      Department of College of Managment Science and Information Engineering\n",
    "           \n",
    "                    BSc in Information management and information system\n",
    "\n",
    "                                  \n",
    "                                     (2021)\n",
    "                                          \n",
    "                              \n",
    "                                   \n",
    "                            Final Assignment: Part 01\n",
    "                                          \n",
    "                                   10/07/2021\n",
    "                                      \n",
    "                               MODULE: Data Mining \n",
    "                               \n",
    "                  Submitted by: Caiden(付立斌) 0314021805413 (1854)\n",
    "                                 QQ: 1318854635\n",
    "                                 GitHub ID：Caiden10086"
   ]
  },
  {
   "cell_type": "markdown",
   "metadata": {},
   "source": [
    "# RULES:\n",
    "\n",
    "1. I have added tips and required learning resources for each question, which helps you to solve the exercise. \n",
    "\n",
    "2. Finish the assignment on your **OWN** (**Any student find copying/sharing from classmates or internet will get '0' points!!!**)\n",
    "\n",
    "3. Once you finish the Assignment **[convert your .ipynb file into PDF](https://github.com/milaan9/91_Python_Tips/blob/main/000_Convert_Jupyter_Notebook_to_PDF.ipynb)** (both .pynb and .pdf file will be required!)\n",
    "\n",
    "4. Create **.zip** file and include your two files:\n",
    "    1. Your Jupyter Notebook file (**001_Python_Assignment_01.ipynb**)\n",
    "    2. Your PDF converted file of 001_Python_Assignment_01.ipynb (**001_Python_Assignment_01.pdf**)\n",
    "    \n",
    "5. Name your .zip file as your student number and name.\n",
    "   example: **0318021907632 Milan(米兰).zip**"
   ]
  },
  {
   "cell_type": "markdown",
   "metadata": {},
   "source": [
    "# Python Assignment 01"
   ]
  },
  {
   "cell_type": "markdown",
   "metadata": {},
   "source": [
    "### Question 1: \n",
    "\n",
    "Write a python program that generates a list containing only common elements between the two lists (without duplicates). Make sure your program works on two lists of different sizes.\n",
    "\n",
    "Expected Output:\n",
    "```\n",
    "List 1: [0, 2, 4, 6, 12, 13, 14, 18, 20, 24, 25, 26, 27]\n",
    "List 2: [0, 4, 7, 9, 10, 11, 13, 14, 17, 18, 20, 33, 39]\n",
    "List of common elements are:  [0, 4, 13, 14, 18, 20]\n",
    "```\n",
    "\n",
    "For extra points:\n",
    "1. Generate the two list randomly to test this\n",
    "2. Generate each list in one line of Python."
   ]
  },
  {
   "cell_type": "code",
   "execution_count": 18,
   "metadata": {},
   "outputs": [
    {
     "name": "stdout",
     "output_type": "stream",
     "text": [
      "List 1:  [3, 5, 14, 12, 1, 11, 3, 13, 4, 10, 15, 11, 3, 6, 3]\n",
      "List 2:  [13, 5, 7, 7, 14, 2, 6, 15, 11, 5, 2, 10, 3, 8, 8]\n",
      "List of common elements are: [3, 5, 6, 10, 11, 13, 14, 15]\n"
     ]
    }
   ],
   "source": [
    "# Solution 1: \n",
    "import random\n",
    "List1 = [random.randint(1,15) for i in range(15)]\n",
    "List2 = [random.randint(1,15) for i in range(15)]\n",
    "print(\"List 1: \",List1);\n",
    "print(\"List 2: \",List2);\n",
    "list01 = set(List1)\n",
    "list02 = set(List2)\n",
    "List3 = list(list01 & list02)\n",
    "print(\"List of common elements are:\",List3)"
   ]
  },
  {
   "cell_type": "markdown",
   "metadata": {},
   "source": [
    "### Question 2: \n",
    "\n",
    "Write a python program to find the gravitational force acting between two objects.\n",
    "\n",
    "\\begin{equation*}\n",
    "F=G\\frac{{m_1}{m_2}}{{r^2}}\n",
    "\\end{equation*}\n",
    "\n",
    "Expected Output:\n",
    "```\n",
    "Enter the first mass (m1): 5000000\n",
    "Enter the second mass (m2): 900000\n",
    "Enter the distance between the centres of the masses (N): 30\n",
    "Hence, the Gravitational Force is:  0.33 N\n",
    "```"
   ]
  },
  {
   "cell_type": "code",
   "execution_count": 22,
   "metadata": {},
   "outputs": [
    {
     "name": "stdout",
     "output_type": "stream",
     "text": [
      "Enter the first mass (m1):5000000\n",
      "Enter the first mass (m2):900000\n",
      "Enter the distance between the centres of the masses (r):30\n",
      "Hence, the Gravitational Force is:  0.33349999999999996 N\n"
     ]
    }
   ],
   "source": [
    "# Solution 2: \n",
    "def f(m1,m2,r):\n",
    "    G=6.67e-11\n",
    "    F=G*m1*m2/(r*r)\n",
    "    print(\"Hence, the Gravitational Force is: \",F,\"N\");\n",
    "m1 = float(input(\"Enter the first mass (m1):\"))\n",
    "m2 = float(input(\"Enter the first mass (m2):\"))\n",
    "r = float(input(\"Enter the distance between the centres of the masses (r):\"))\n",
    "f(m1,m2,r);"
   ]
  },
  {
   "cell_type": "markdown",
   "metadata": {},
   "source": [
    "### Question 3: \n",
    "\n",
    "Write a python program that generates a new list that contains only even elements from the randomly generated list.\n",
    "\n",
    "Expected Output:\n",
    "```\n",
    "Randomly generated list: [64, 63, 90, 13, 38, 27, 19, 51, 97, 32, 18, 75]\n",
    "List of even elements: [64, 90, 38, 32, 18]\n",
    "```"
   ]
  },
  {
   "cell_type": "code",
   "execution_count": 25,
   "metadata": {},
   "outputs": [
    {
     "name": "stdout",
     "output_type": "stream",
     "text": [
      "Randomly generated list:  [8, 3, 13, 2, 11]\n",
      "List of even elements:  [8, 2]\n"
     ]
    }
   ],
   "source": [
    "# Solution 3: \n",
    "\n",
    "import random\n",
    "list1 = [random.randint(1,15) for i in range(5)]\n",
    "print(\"Randomly generated list: \",list1)\n",
    "list2=list1[::]\n",
    "for i in list1:\n",
    "    if i%2!=0:\n",
    "        list2.remove(i)\n",
    "print(\"List of even elements: \",list2)"
   ]
  },
  {
   "cell_type": "markdown",
   "metadata": {},
   "source": [
    "### Question 4: \n",
    "\n",
    "Write a python program to check if a substring is present in a given string.\n",
    "\n",
    "Expected Output:\n",
    "```\n",
    "Enter string:Hello world\n",
    "Enter word:world\n",
    "Substring in string!\n",
    "```"
   ]
  },
  {
   "cell_type": "code",
   "execution_count": 32,
   "metadata": {},
   "outputs": [
    {
     "name": "stdout",
     "output_type": "stream",
     "text": [
      "Enter string:hello world\n",
      "Enter string:world\n",
      "Substring in string!\n"
     ]
    }
   ],
   "source": [
    "# Solution 4: \n",
    "import string\n",
    "x = input(\"Enter string:\")\n",
    "y = input(\"Enter string:\")\n",
    "if(y in x):\n",
    "    print(\"Substring in string!\")\n",
    "else: print(\"Substring not in string!\")"
   ]
  },
  {
   "cell_type": "markdown",
   "metadata": {},
   "source": [
    "### Question 5: \n",
    "\n",
    "Write a python program that asks the user last 2 digit of (your) student number and generates Fibonacci series.\n",
    "\n",
    "Expected Output:\n",
    "```\n",
    "How many numbers that generates?: 12\n",
    "Fibonacci series:\n",
    " [1, 1, 2, 3, 5, 8, 13, 21, 34, 55, 89, 144]\n",
    "```"
   ]
  },
  {
   "cell_type": "code",
   "execution_count": 42,
   "metadata": {},
   "outputs": [
    {
     "name": "stdout",
     "output_type": "stream",
     "text": [
      "How many numbers that generates?: 12\n",
      "Fibonacci series: [1, 1, 2, 3, 5, 8, 13, 21, 34, 55, 89, 144]\n"
     ]
    }
   ],
   "source": [
    "# Solution 5: \n",
    "n = int(input(\"How many numbers that generates?: \"))\n",
    "def f1(n):\n",
    "    if n <= 1:return n\n",
    "    return f1(n-1) + f1(n-2)\n",
    "x = []\n",
    "for i in range(1,n+1):\n",
    "    x.append(f1(i))\n",
    "print(\"Fibonacci series:\",x)"
   ]
  },
  {
   "cell_type": "markdown",
   "metadata": {},
   "source": [
    "### Question 6: \n",
    "\n",
    "Write a python program using function that generates a new list that contains all the elements of the first list and removing all the duplicates.\n",
    "\n",
    "Expected Output:\n",
    "```\n",
    "List:  [1, 2, 3, 4, 3, 2, 1]\n",
    "Result List using loop:  [1, 2, 3, 4]\n",
    "Result List using sets:  [1, 2, 3, 4]\n",
    "```\n",
    "\n",
    "For extra points:\n",
    "1. Generate the result using two different functions using:\n",
    "    - one using a loop and constructing a list\n",
    "    - sets"
   ]
  },
  {
   "cell_type": "code",
   "execution_count": 44,
   "metadata": {},
   "outputs": [
    {
     "name": "stdout",
     "output_type": "stream",
     "text": [
      "List: [1, 1, 2, 2, 3, 3, 4, 5, 3, 2]\n",
      "Result List using loop:  [1, 2, 3, 4, 5]\n",
      "Result List using sets: [1, 2, 3, 4, 5]\n"
     ]
    }
   ],
   "source": [
    "# Solution 6: \n",
    "list1 = [1,1,2,2,3,3,4,5,3,2]\n",
    "print(\"List:\",list1)\n",
    "# loop\n",
    "list2=[]\n",
    "for i in list1:\n",
    "    if not i in list2:\n",
    "        list2.append(i)\n",
    "print(\"Result List using loop: \",list2)\n",
    "#set\n",
    "list3 = list(set(list1)) \n",
    "print(\"Result List using sets:\",list3)"
   ]
  },
  {
   "cell_type": "markdown",
   "metadata": {},
   "source": [
    "### Question 7: \n",
    "\n",
    "Write a python program using functions that asks the user for a string containing multiple words and print back to the user the same string, except with the words in reverse order.\n",
    "\n",
    "Expected Output:\n",
    "```\n",
    "Please enter a sentence: My name is Milaan\n",
    "The reverse sentence is: Milaan is name My\n",
    "```"
   ]
  },
  {
   "cell_type": "code",
   "execution_count": 2,
   "metadata": {},
   "outputs": [
    {
     "name": "stdout",
     "output_type": "stream",
     "text": [
      "Please enter a sentence: My name is Milaan\n",
      "The reverse sentence is: Milaan is name My\n"
     ]
    }
   ],
   "source": [
    "# Solution 7: \n",
    "x = input(\"Please enter a sentence: \") \n",
    "x = x.split()\n",
    "x = \" \".join(x[::-1])\n",
    "print(\"The reverse sentence is:\",x)"
   ]
  },
  {
   "cell_type": "markdown",
   "metadata": {},
   "source": [
    "### Question 8: \n",
    "\n",
    "Write a python program using function that encrypts a given input with these steps:\n",
    "\n",
    "Input: \"apple\"\n",
    "\n",
    "* Step 1: Reverse the input: \"elppa\"\n",
    "* Step 2: Replace all vowels using the following chart:\n",
    "\n",
    "```python\n",
    "a => 0\n",
    "e => 1\n",
    "i => 2\n",
    "o => 2\n",
    "u => 3\n",
    "# 1lpp0\n",
    "```\n",
    "\n",
    "* Step 3: Add \"aca\" to the end of the word: \"1lpp0aca\"\n",
    "\n",
    "Expected Output:\n",
    "```\n",
    "Word:  apple\n",
    "Encrypted word: 1lpp0aca\n",
    "```\n",
    "\n",
    "More Examples:\n",
    "```\n",
    "encrypt(\"banana\") ➞ \"0n0n0baca\"\n",
    "encrypt(\"karaca\") ➞ \"0c0r0kaca\"\n",
    "encrypt(\"burak\") ➞ \"k0r3baca\"\n",
    "encrypt(\"alpaca\") ➞ \"0c0pl0aca\"\n",
    "```"
   ]
  },
  {
   "cell_type": "code",
   "execution_count": 137,
   "metadata": {
    "scrolled": true
   },
   "outputs": [
    {
     "name": "stdout",
     "output_type": "stream",
     "text": [
      "Word:apple\n",
      "Encrypted word: 1lpp0aca\n"
     ]
    }
   ],
   "source": [
    "# Solution 8: \n",
    "s = input(\"Word:\")\n",
    "def f2(s):\n",
    "    s = s[::-1]\n",
    "    s1 = \"\"\n",
    "    for i in s:\n",
    "        if(i == 'a'):\n",
    "            s1 += '0'\n",
    "        elif(i == 'e'):\n",
    "            s1 += '1'\n",
    "        elif(i == 'i' or i == 'o'):\n",
    "            s1 += '2'\n",
    "        elif(i == 'u'):\n",
    "            s1 += '3'\n",
    "        else:s1 += i\n",
    "    s1+=\"aca\"\n",
    "    return s1\n",
    "print(\"Encrypted word:\",f2(s))"
   ]
  },
  {
   "cell_type": "markdown",
   "metadata": {},
   "source": [
    "### Question 9: \n",
    "\n",
    "Write a python program using function that takes a number num and returns its length.\n",
    "\n",
    "Expected Output:\n",
    "```\n",
    "Enter number: 963969\n",
    "Total digits in given number:  6\n",
    "```"
   ]
  },
  {
   "cell_type": "code",
   "execution_count": 4,
   "metadata": {},
   "outputs": [
    {
     "name": "stdout",
     "output_type": "stream",
     "text": [
      "Enter number: 963969\n",
      "Total digits in given number:  6\n"
     ]
    }
   ],
   "source": [
    "# Solution 9: \n",
    "def f3(num):\n",
    "    a = len(str(num))\n",
    "    return a\n",
    "x = int(input(\"Enter number: \"))\n",
    "print(\"Total digits in given number: \",f3(x))"
   ]
  },
  {
   "cell_type": "markdown",
   "metadata": {},
   "source": [
    "### Question 10: \n",
    "\n",
    "Write a python program using function that takes a string and returns the number (count) of vowels contained within it.\n",
    "\n",
    "Expected Output:\n",
    "```\n",
    "Enter string: Celebration\n",
    "Total vowels in the string: 5\n",
    "Identified vowels are:  ['e', 'e', 'a', 'i', 'o']\n",
    "```\n",
    "\n",
    "More examples:\n",
    "```\n",
    "count_vowels(\"Palm\") ➞ 1\n",
    "count_vowels(\"Prediction\") ➞ 4\n",
    "```"
   ]
  },
  {
   "cell_type": "code",
   "execution_count": 10,
   "metadata": {},
   "outputs": [
    {
     "name": "stdout",
     "output_type": "stream",
     "text": [
      "Enter string: Celebration\n",
      "Total vowels in the string:  5\n",
      "Identified vowels are:  ['e', 'e', 'a', 'i', 'o']\n"
     ]
    }
   ],
   "source": [
    "# Solution 10: \n",
    "def f4(s):\n",
    "    count = 0\n",
    "    s0 = ['a','e','i','o','u']\n",
    "    s1=[]\n",
    "    for i in s:\n",
    "        if(i in s0):\n",
    "            count +=1\n",
    "            s1.append(i)\n",
    "    print(\"Total vowels in the string: \",count)\n",
    "    print(\"Identified vowels are: \",s1)\n",
    "x = input(\"Enter string: \")\n",
    "f4(x)"
   ]
  },
  {
   "cell_type": "markdown",
   "metadata": {},
   "source": [
    "### Question 11:\n",
    "\n",
    "Write a python program to draw pattern as below:\n",
    "\n",
    "Expected Output:\n",
    "```\n",
    "--- --- --- \n",
    "|   |   |   |\n",
    " --- --- --- \n",
    "|   |   |   |\n",
    " --- --- --- \n",
    "|   |   |   |\n",
    " --- --- --- \n",
    "```\n",
    "\n",
    "For extra point:\n",
    "1. Generate solution by asking the user what size game board they want to draw, and draw it for them to the screen using Python’s print statement.\n",
    "\n",
    "Expected Output:\n",
    "```\n",
    "Enter the size of board you want to draw: 4\n",
    " --- --- --- ---\n",
    "|   |   |   |   |   \n",
    " --- --- --- ---\n",
    "|   |   |   |   |   \n",
    " --- --- --- ---\n",
    "|   |   |   |   |   \n",
    " --- --- --- ---\n",
    "|   |   |   |   |   \n",
    " --- --- --- ---\n",
    "```"
   ]
  },
  {
   "cell_type": "code",
   "execution_count": 28,
   "metadata": {},
   "outputs": [
    {
     "name": "stdout",
     "output_type": "stream",
     "text": [
      "Enter the size of board you want to draw: 4\n",
      " --- --- --- ---\n",
      "|   |   |   |   |   \n",
      " --- --- --- ---\n",
      "|   |   |   |   |   \n",
      " --- --- --- ---\n",
      "|   |   |   |   |   \n",
      " --- --- --- ---\n",
      "|   |   |   |   |   \n",
      " --- --- --- ---"
     ]
    }
   ],
   "source": [
    "# Solution 11: \n",
    "def f5(n):\n",
    "    for i in range(n):\n",
    "        for i in range(n):\n",
    "            print(\" ---\",end=\"\")\n",
    "        print('')\n",
    "        for i in range(n+1):\n",
    "            print(\"|   \",end=\"\")\n",
    "        print('')\n",
    "    for i in range(n):\n",
    "        print(\" ---\",end=\"\")\n",
    "x = int(input(\"Enter the size of board you want to draw: \"))\n",
    "f5(x)"
   ]
  },
  {
   "cell_type": "markdown",
   "metadata": {},
   "source": [
    "### Question 12: \n",
    "\n",
    "Write a python program to ask user for a string and then perform following operations:\n",
    "1. Calculate the num of digits \n",
    "2. Calculate the num of letters \n",
    "3. Calculate the num of vowels\n",
    "4. Calculate the num of lowercase characters\n",
    "5. replace ' ' with '_' in the string\n",
    "6. Print and Store the ouput to 'output.txt' file.\n",
    "\n",
    "Expected Output:\n",
    "```\n",
    "Enter string: Hello World 123\n",
    "Output printed in'output.txt'\n",
    "```\n",
    "\n",
    "Expected Output in output.txt:\n",
    "```\n",
    "The entered string is: Hello World 123\n",
    "The number of digits is: 3\n",
    "The number of characters is: 15\n",
    "The number of vowels is: 3\n",
    "The number of lowercase characters is: 8\n",
    "The modified string is: Hello_World_123\n",
    "```"
   ]
  },
  {
   "cell_type": "code",
   "execution_count": 2,
   "metadata": {},
   "outputs": [
    {
     "name": "stdout",
     "output_type": "stream",
     "text": [
      "Enter string: Hello World 1234\n",
      "Output printed in'output.txt'\n"
     ]
    }
   ],
   "source": [
    "# Solution 12: \n",
    "s = input(\"Enter string: \")\n",
    "letter = 0\n",
    "small = 0\n",
    "num = 0\n",
    "vowel = 0\n",
    "s0 = \"\"\n",
    "snum = len(s)\n",
    "for i in s:\n",
    "    if(i.isalpha()):\n",
    "        letter += 1\n",
    "        s0 += i\n",
    "    if(i.islower()):\n",
    "        small += 1\n",
    "    if(i in ['a','A','e','E','i','I','o','O','u','U']):\n",
    "        vowel += 1\n",
    "    if(i.isdigit()):\n",
    "        num += 1\n",
    "        s0 += i\n",
    "    if(i == ' '):\n",
    "        s0 += '_'\n",
    "num = str(num)\n",
    "snum = str(snum)\n",
    "vowel = str(vowel)\n",
    "small = str(small)\n",
    "letter = str(letter)\n",
    "print(\"Output printed in'output.txt'\")\n",
    "t1 = open('output.txt','w')\n",
    "t1.write(\"The entered string is:\"+s+\"\\n\")\n",
    "t1.write(\"The number of digits is:\"+num+\"\\n\")\n",
    "t1.write(\"The number of characters is:\"+snum+\"\\n\")\n",
    "t1.write(\"The number of vowels is:\"+vowel+\"\\n\")\n",
    "t1.write(\"The number of lowercase characters is:\"+small+\"\\n\")\n",
    "t1.write(\"The number of letters is:\"+letter+\"\\n\")\n",
    "t1.write(\"The modified string is:\"+s0+\"\\n\")\n",
    "t1.close()"
   ]
  },
  {
   "cell_type": "markdown",
   "metadata": {},
   "source": [
    "### Question 13: \n",
    "\n",
    "Write a python program using function that takes as input three variables from user, and returns the largest of the three. Do this without using the Python **`max()`** function!\n",
    "\n",
    "Expected Output:\n",
    "```\n",
    "Please enter three integers separated by comma: 12, 66, 31\n",
    "The maximum value is: 66 \n",
    "```"
   ]
  },
  {
   "cell_type": "code",
   "execution_count": 8,
   "metadata": {},
   "outputs": [
    {
     "name": "stdout",
     "output_type": "stream",
     "text": [
      "Please enter three integers separated by comma:12,66,31\n",
      "The maximum value is: 66\n"
     ]
    }
   ],
   "source": [
    "# Solution 13: \n",
    "def fmax(a,b,c):\n",
    "    large = a\n",
    "    if(b>large):\n",
    "        large = b\n",
    "    if(c>large):\n",
    "        large = c\n",
    "    return large\n",
    "a,b,c = eval(input(\"Please enter three integers separated by comma:\"))\n",
    "print(\"The maximum value is:\",fmax(a,b,c))"
   ]
  },
  {
   "cell_type": "markdown",
   "metadata": {},
   "source": [
    "### Question 14: \n",
    "\n",
    "Write a python program where user, will have a number in head between 0 and 100. The program will guess a number, and you, the user, will say whether it is too \"high\", too \"low\", or your number. Also, in the end program should print out how many guesses it took to get your number.\n",
    "\n",
    "Expected Output:\n",
    "```\n",
    "Guess a number between 0 and 100 and tell whether high or low when prompted!\n",
    "My guess is 50. Is that high, low or same? low\n",
    "My guess is 75. Is that high, low or same? low\n",
    "My guess is 88. Is that high, low or same? low\n",
    "My guess is 94. Is that high, low or same? low\n",
    "My guess is 97. Is that high, low or same? low\n",
    "My guess is 99. Is that high, low or same? same\n",
    "Congrats to me! I guessed it in 6 tries.\n",
    "```"
   ]
  },
  {
   "cell_type": "code",
   "execution_count": 11,
   "metadata": {},
   "outputs": [
    {
     "name": "stdout",
     "output_type": "stream",
     "text": [
      "Guess a number between 0 and 100 and tell whether high or low when prompted!\n",
      "Please enter the number you want the computer to guess:99\n",
      "My guess is 85. Is that high, low or same? low\n",
      "My guess is 96. Is that high, low or same? low\n",
      "My guess is 98. Is that high, low or same? low\n",
      "My guess is 99. Is that high, low or same? same\n",
      "Congrats to me! I guessed it in 4 tries.\n"
     ]
    }
   ],
   "source": [
    "# Solution 14: \n",
    "import random\n",
    "print(\"Guess a number between 0 and 100 and tell whether high or low when prompted!\")\n",
    "num = int(input(\"Please enter the number you want the computer to guess:\"))\n",
    "up = 100\n",
    "down = 0\n",
    "x = random.randint(down,up)\n",
    "count = 1\n",
    "while x<101:\n",
    "    s = input(\"My guess is \"+str(x)+\". Is that high, low or same? \")\n",
    "    if(s == \"low\"):\n",
    "        down = x+1\n",
    "        count += 1\n",
    "        x = random.randint(down,up)\n",
    "    if(s == \"high\"):\n",
    "        up = x-1\n",
    "        count += 1\n",
    "        x = random.randint(down,up)\n",
    "    if(s == \"same\"):\n",
    "        break\n",
    "print(\"Congrats to me! I guessed it in\",count,\"tries.\")"
   ]
  },
  {
   "cell_type": "markdown",
   "metadata": {},
   "source": [
    "### Question 15: \n",
    "\n",
    "Write a python program using function that takes an list(ordered) of numbers (from smallest to largest) and another number. The function decides whether or not the given number is inside the list and returns (then prints) an appropriate boolean.\n",
    "\n",
    ">Hint: Use binary search.\n",
    "\n",
    "Expected Output:\n",
    "```\n",
    "List:  [2, 4, 6, 8, 10]\n",
    "Find  '5': False\n",
    "Find '10': True\n",
    "Find '-1': False\n",
    "Find  '2': True\n",
    "```\n",
    "\n",
    "For extra point:\n",
    "1. Generate list randomly and select he number randomly to be search from the list."
   ]
  },
  {
   "cell_type": "code",
   "execution_count": 105,
   "metadata": {},
   "outputs": [
    {
     "name": "stdout",
     "output_type": "stream",
     "text": [
      "List:  [2, 5, 7, 8, 9, 10, 14, 15, 17, 19]\n",
      "Find  11  : False\n",
      "Find  10  : True\n",
      "Find  17  : True\n"
     ]
    }
   ],
   "source": [
    "# Solution 15: \n",
    "import random\n",
    "def find(L1,a):\n",
    "    ret = False\n",
    "    min = 0\n",
    "    max = len(L1)\n",
    "    while min<=max:\n",
    "        mid = (min + max)//2\n",
    "        if mid>=len(L1):\n",
    "            break\n",
    "        if L1[mid] == a:\n",
    "            ret = True\n",
    "            break\n",
    "        elif a<L1[mid]:\n",
    "            max = mid-1\n",
    "        else:\n",
    "            min = mid+1\n",
    "    return ret\n",
    "list1 = random.sample(range(1,21),10)# Random list\n",
    "list1.sort()\n",
    "x=random.randint(1,20)# Random number\n",
    "x1=random.randint(1,20)# Random number\n",
    "x2=random.randint(1,20)# Random number\n",
    "print(\"List: \",list1)\n",
    "print(\"Find \",x,\" :\",find(list1,x))\n",
    "print(\"Find \",x1,\" :\",find(list1,x1))\n",
    "print(\"Find \",x2,\" :\",find(list1,x2))"
   ]
  },
  {
   "cell_type": "markdown",
   "metadata": {},
   "source": [
    "### Question 16: \n",
    "\n",
    "Write a python program to generate password. Be creative with how you generate passwords - strong passwords have a mix of lowercase letters, uppercase letters, numbers, and symbols. The passwords should be random, generating a new password every time the user asks for a new password. Include your code in a main method.\n",
    "\n",
    "Expected Output:\n",
    "```\n",
    "Please choose strong or weak:\n",
    "strong\n",
    "password: 6|Av.0T^9\n",
    "do you want a new password? y/n\n",
    "n\n",
    "```\n",
    "\n",
    "For extra points:\n",
    "1. Ask the user if they want password to be strong(9 characters) or weak(6 characters)?"
   ]
  },
  {
   "cell_type": "code",
   "execution_count": 150,
   "metadata": {},
   "outputs": [
    {
     "name": "stdout",
     "output_type": "stream",
     "text": [
      "Please choose strong or weak:strong\n",
      "password:  l#M!0U.a|\n",
      "do you want a new password? y/n:y\n",
      "password:  7n&jG%#.@\n",
      "do you want a new password? y/n:n\n"
     ]
    }
   ],
   "source": [
    "# Solution 16: \n",
    "import random\n",
    "def password():\n",
    "    s= input(\"Please choose strong or weak:\")\n",
    "    m = 0\n",
    "    choose = \"y\"\n",
    "    s1 = \"abcdefghijklmnopqrstuvwxyz\"\n",
    "    s2 = \"ABCDEFGHIJKLMNOPQRSTUVWXYZ\"\n",
    "    s3 = \"0123456789\"\n",
    "    s4 = \"!@#$%^&*.|\"\n",
    "    if(s == \"strong\"):\n",
    "        m = 9\n",
    "    else:m = 6\n",
    "    while choose == \"y\":\n",
    "        num1=random.randint(1,m//4)\n",
    "        num2=random.randint(1,m//4)\n",
    "        num3=random.randint(1,m//4)\n",
    "        num4=m-num1-num2-num3\n",
    "        password = random.sample(s1,num1)+random.sample(s2,num2)+random.sample(s3,num3)+random.sample(s4,num4)\n",
    "        random.shuffle(password)\n",
    "        password1=\"\".join(password)\n",
    "        print(\"password: \",password1)\n",
    "        choose = input(\"do you want a new password? y/n:\")\n",
    "password()"
   ]
  },
  {
   "cell_type": "markdown",
   "metadata": {},
   "source": [
    "### Question 17: \n",
    "\n",
    "Write a python program using function that picks a random word from a list of words from the **[dictionary](https://github.com/milaan9/92_Python_Assignments/blob/main/sowpods.txt)**. Each line in the file contains a single word.\n",
    "\n",
    ">Hint: use the Python random library for picking a random word.\n",
    "\n",
    "Expected Output:\n",
    "```\n",
    "Random word: POTENTIATING\n",
    "```"
   ]
  },
  {
   "cell_type": "code",
   "execution_count": 165,
   "metadata": {},
   "outputs": [
    {
     "name": "stdout",
     "output_type": "stream",
     "text": [
      "Random word: OVERLIERS\n",
      "\n"
     ]
    }
   ],
   "source": [
    "# Solution 17: \n",
    "import linecache,random\n",
    "def find():\n",
    "    txt = open('sowpods.txt') \n",
    "    lines = len(txt.readlines()) \n",
    "    txt.close()\n",
    "    n=random.randint(1,lines)\n",
    "    m=linecache.getline('sowpods.txt', n)\n",
    "    return m\n",
    "print(\"Random word:\",find())"
   ]
  },
  {
   "cell_type": "markdown",
   "metadata": {},
   "source": [
    "### Question 18: \n",
    "\n",
    "Write a python program where a text(.txt) file is given **[nameslist.txt](https://github.com/milaan9/92_Python_Assignments/blob/main/nameslist.txt)** that contains list of a bunch of names, count how many of each name there are in the file, and print out the results to the screen. \n",
    "\n",
    "Expected Output:\n",
    "```\n",
    "{'Darth': 31, 'Luke': 15, 'Leia': 54}\n",
    "```\n",
    "\n",
    "For extra point:\n",
    "1. Instead of using the **[nameslist.txt](https://github.com/milaan9/92_Python_Assignments/blob/main/nameslist.txt)** file from above (or instead of, if you want the challenge), take this **[SUN_Database.txt](https://github.com/milaan9/92_Python_Assignments/blob/main/SUN_Database.txt)** file, and count how many of each “category” of each image there are. This text file is actually a list of files corresponding to the SUN database scene recognition database, and lists the file directory hierarchy for the images. Once you take a look at the first line or two of the file, it will be clear which part represents the scene category.\n",
    "\n",
    "Expected Output:\n",
    "```\n",
    "abbey: 50\n",
    "airplane_cabin: 50\n",
    "airport_terminal: 50\n",
    "alley: 50\n",
    "amphitheater: 50\n",
    "...\n",
    "...\n",
    "...\n",
    "wrestling_ring: 50\n",
    "yard: 50\n",
    "youth_hostel: 50\n",
    "```"
   ]
  },
  {
   "cell_type": "code",
   "execution_count": 10,
   "metadata": {},
   "outputs": [
    {
     "name": "stdout",
     "output_type": "stream",
     "text": [
      "{'Darth': 31, 'Luke': 15, 'Leia': 54}\n"
     ]
    }
   ],
   "source": [
    "# Solution 18: \n",
    "def fword(txt1):\n",
    "    readlist = txt1.split()\n",
    "    num={}\n",
    "    for word in readlist:\n",
    "        if word in num:\n",
    "            num[word] += 1\n",
    "        else:\n",
    "            num[word] = 1\n",
    "    return num\n",
    "txt=open(\"nameslist.txt\").read()\n",
    "print(fword(txt))"
   ]
  },
  {
   "cell_type": "markdown",
   "metadata": {},
   "source": [
    "### Question 19: \n",
    "\n",
    "Write a python program where two .txt files are given that have lists of numbers in them, find the numbers that are overlapping. One '**[primenumbers1_1000.txt](https://github.com/milaan9/92_Python_Assignments/blob/main/primenumbers1_1000.txt)**' file has a list of all prime numbers under 1000, and the other '**[happynumbers1_1000.txt](https://github.com/milaan9/92_Python_Assignments/blob/main/happynumbers1_1000.txt)**' file has a list of **[happy numbers](https://en.wikipedia.org/wiki/Happy_number)** up to 1000.\n",
    "\n",
    "Expected Output:\n",
    "```\n",
    "The list of overlapping numbers:\n",
    " [7, 13, 19, 23, 31, 79, 97, 103, 109, 139, 167, 193, 239, 263, 293, 313, 331, 367, 379, 383, 397, 409, 487, 563, 617, 653, 673, 683, 709, 739, 761, 863, 881, 907, 937]\n",
    "```\n",
    "\n",
    "For extra point:\n",
    "1. Generate solution with functions using list comprehensions"
   ]
  },
  {
   "cell_type": "code",
   "execution_count": 32,
   "metadata": {},
   "outputs": [
    {
     "name": "stdout",
     "output_type": "stream",
     "text": [
      "The list of overlapping numbers: \n",
      " [7, 13, 19, 23, 31, 79, 97, 103, 109, 139, 167, 193, 239, 263, 293, 313, 331, 367, 379, 383, 397, 409, 487, 563, 617, 653, 673, 683, 709, 739, 761, 863, 881, 907, 937]\n"
     ]
    }
   ],
   "source": [
    "# Solution 19: \n",
    "f1 = open('primenumbers1_1000.txt','r')\n",
    "t1=[]\n",
    "for num in f1.readlines():\n",
    "    t1.append(num.replace(\"\\n\",\"\"))\n",
    "f1.close()\n",
    "t1 = [int(x) for x in t1]\n",
    "f2 = open('happynumbers1_1000.txt','r')\n",
    "t2=[]\n",
    "for num in f2.readlines():\n",
    "    t2.append(num.replace(\"\\n\",\"\"))\n",
    "f2.close()\n",
    "t2 = [int(x) for x in t2]\n",
    "t3 = [x for x in t1 if x in t2]\n",
    "print(\"The list of overlapping numbers:\",\"\\n\",t3)"
   ]
  },
  {
   "cell_type": "markdown",
   "metadata": {},
   "source": [
    "### Question 20: \n",
    "\n",
    "Create a function that takes a string as an argument and returns the Morse code equivalent.\n",
    "\n",
    "Expected Output:\n",
    "```\n",
    "encode_morse(\"HELP ME !\") ➞ \".... . .-.. .--.   -- .   -.-.--\"\n",
    "```\n",
    "\n",
    "This dictionary can be used for coding:\n",
    "```\n",
    "char_to_dots = {\n",
    "    'A': '.-',   'B': '-...', 'C': '-.-.', 'D': '-..',  'E': '.',    'F': '..-.',\n",
    "    'G': '--.',  'H': '....', 'I': '..',   'J': '.---', 'K': '-.-',  'L': '.-..',\n",
    "    'M': '--',   'N': '-.',   'O': '---',  'P': '.--.', 'Q': '--.-', 'R': '.-.',\n",
    "    'S': '...',  'T': '-',    'U': '..-',  'V': '...-', 'W': '.--',  'X': '-..-',\n",
    "    'Y': '-.--', 'Z': '--..',  \n",
    "        \n",
    "    '0': '-----', '1': '.----', '2': '..---', '3': '...--', '4': '....-', \n",
    "    '5': '.....', '6': '-....', '7': '--...', '8': '---..', '9': '----.',\n",
    "        \n",
    "    ' ': ' ',      '&': '.-...',  \"'\": '.----.', '@': '.--.-.', ')': '-.--.-', \n",
    "    '(': '-.--.',  ':': '---...', ',': '--..--', '=': '-...-',  '!': '-.-.--', \n",
    "    '.': '.-.-.-', '-': '-....-', '+': '.-.-.', '\"': '.-..-.',  '?': '..--..', \n",
    "    '/': '-..-.'\n",
    "}\n",
    "```"
   ]
  },
  {
   "cell_type": "code",
   "execution_count": 3,
   "metadata": {},
   "outputs": [
    {
     "name": "stdout",
     "output_type": "stream",
     "text": [
      "Please enter clear text:help!\n",
      "The Morse code is: .... . .-.. .--. -.-.-- \n"
     ]
    }
   ],
   "source": [
    "# Solution 20: \n",
    "char_to_dots = {'A': '.-',   'B': '-...',  'C': '-.-.',   'D': '-..',\n",
    "                'E': '.',    'F': '..-.',  'G': '--.',    'H': '....', \n",
    "                'I': '..',   'J': '.---',  'K': '-.-',    'L': '.-..',\n",
    "                'M': '--',   'N': '-.',    'O': '---',    'P': '.--.',\n",
    "                'Q': '--.-', 'R': '.-.',   'S': '...',    'T': '-',\n",
    "                'U': '..-',  'V': '...-',  'W': '.--',    'X': '-..-',\n",
    "                'Y': '-.--', 'Z': '--..',  '0': '-----',  '1': '.----',\n",
    "                '2': '..---','3': '...--',  '4': '....-', '5': '.....',\n",
    "                '6': '-....','7': '--...',  '8': '---..', '9': '----.',\n",
    "                ' ': '  ',    '&': '.-...',  \"'\": '.----.','@': '.--.-.', \n",
    "                ')': '-.--.-','(': '-.--.', ':': '---...', ',': '--..--',\n",
    "                '=': '-...-','!': '-.-.--', '.': '.-.-.-', '-': '-....-',\n",
    "                '+': '.-.-.','\"': '.-..-.', '?': '..--..', '/': '-..-.'}\n",
    "def ms():\n",
    "    m = \"\"\n",
    "    s = input(\"Please enter clear text:\")\n",
    "    s = s.upper()\n",
    "    for s0 in s:\n",
    "        m += char_to_dots[s0] + \" \"\n",
    "    print(\"The Morse code is:\", m)\n",
    "ms()"
   ]
  },
  {
   "cell_type": "code",
   "execution_count": null,
   "metadata": {},
   "outputs": [],
   "source": []
  }
 ],
 "metadata": {
  "hide_input": false,
  "kernelspec": {
   "display_name": "Python 3",
   "language": "python",
   "name": "python3"
  },
  "language_info": {
   "codemirror_mode": {
    "name": "ipython",
    "version": 3
   },
   "file_extension": ".py",
   "mimetype": "text/x-python",
   "name": "python",
   "nbconvert_exporter": "python",
   "pygments_lexer": "ipython3",
   "version": "3.7.0"
  },
  "toc": {
   "base_numbering": 1,
   "nav_menu": {},
   "number_sections": true,
   "sideBar": true,
   "skip_h1_title": false,
   "title_cell": "Table of Contents",
   "title_sidebar": "Contents",
   "toc_cell": false,
   "toc_position": {},
   "toc_section_display": true,
   "toc_window_display": false
  },
  "varInspector": {
   "cols": {
    "lenName": 16,
    "lenType": 16,
    "lenVar": 40
   },
   "kernels_config": {
    "python": {
     "delete_cmd_postfix": "",
     "delete_cmd_prefix": "del ",
     "library": "var_list.py",
     "varRefreshCmd": "print(var_dic_list())"
    },
    "r": {
     "delete_cmd_postfix": ") ",
     "delete_cmd_prefix": "rm(",
     "library": "var_list.r",
     "varRefreshCmd": "cat(var_dic_list()) "
    }
   },
   "types_to_exclude": [
    "module",
    "function",
    "builtin_function_or_method",
    "instance",
    "_Feature"
   ],
   "window_display": false
  }
 },
 "nbformat": 4,
 "nbformat_minor": 2
}
